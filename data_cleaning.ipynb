{
  "nbformat": 4,
  "nbformat_minor": 0,
  "metadata": {
    "colab": {
      "name": "data_cleaning.ipynb",
      "provenance": []
    },
    "kernelspec": {
      "name": "python3",
      "display_name": "Python 3"
    }
  },
  "cells": [
    {
      "cell_type": "code",
      "metadata": {
        "id": "cFTFieFG1Xz9"
      },
      "source": [
        "import pandas as pd  \r\n",
        "import numpy as np\r\n",
        "import matplotlib.pyplot as plt"
      ],
      "execution_count": 1,
      "outputs": []
    },
    {
      "cell_type": "code",
      "metadata": {
        "colab": {
          "base_uri": "https://localhost:8080/"
        },
        "id": "PUV2qRu911rP",
        "outputId": "fe4ac446-dbcb-4d71-dee1-5006e6b37ed4"
      },
      "source": [
        "from google.colab import drive\r\n",
        "drive.mount('/content/drive')"
      ],
      "execution_count": 2,
      "outputs": [
        {
          "output_type": "stream",
          "text": [
            "Mounted at /content/drive\n"
          ],
          "name": "stdout"
        }
      ]
    },
    {
      "cell_type": "code",
      "metadata": {
        "colab": {
          "base_uri": "https://localhost:8080/",
          "height": 206
        },
        "id": "QNOCoLAv1aeM",
        "outputId": "c0dec0bc-e30e-4ef3-8fb1-2ff5da78c234"
      },
      "source": [
        "df = pd.read_csv(\"/content/drive/My Drive/Colab Notebooks/ScalaProject/tweet_dataset.csv\")\r\n",
        "df.head()"
      ],
      "execution_count": 3,
      "outputs": [
        {
          "output_type": "execute_result",
          "data": {
            "text/html": [
              "<div>\n",
              "<style scoped>\n",
              "    .dataframe tbody tr th:only-of-type {\n",
              "        vertical-align: middle;\n",
              "    }\n",
              "\n",
              "    .dataframe tbody tr th {\n",
              "        vertical-align: top;\n",
              "    }\n",
              "\n",
              "    .dataframe thead th {\n",
              "        text-align: right;\n",
              "    }\n",
              "</style>\n",
              "<table border=\"1\" class=\"dataframe\">\n",
              "  <thead>\n",
              "    <tr style=\"text-align: right;\">\n",
              "      <th></th>\n",
              "      <th>Unnamed: 0</th>\n",
              "      <th>category</th>\n",
              "      <th>description</th>\n",
              "    </tr>\n",
              "  </thead>\n",
              "  <tbody>\n",
              "    <tr>\n",
              "      <th>0</th>\n",
              "      <td>0</td>\n",
              "      <td>0</td>\n",
              "      <td>@switchfoot http://twitpic.com/2y1zl - Awww, t...</td>\n",
              "    </tr>\n",
              "    <tr>\n",
              "      <th>1</th>\n",
              "      <td>1</td>\n",
              "      <td>0</td>\n",
              "      <td>is upset that he can't update his Facebook by ...</td>\n",
              "    </tr>\n",
              "    <tr>\n",
              "      <th>2</th>\n",
              "      <td>2</td>\n",
              "      <td>0</td>\n",
              "      <td>@Kenichan I dived many times for the ball. Man...</td>\n",
              "    </tr>\n",
              "    <tr>\n",
              "      <th>3</th>\n",
              "      <td>3</td>\n",
              "      <td>0</td>\n",
              "      <td>my whole body feels itchy and like its on fire</td>\n",
              "    </tr>\n",
              "    <tr>\n",
              "      <th>4</th>\n",
              "      <td>4</td>\n",
              "      <td>0</td>\n",
              "      <td>@nationwideclass no, it's not behaving at all....</td>\n",
              "    </tr>\n",
              "  </tbody>\n",
              "</table>\n",
              "</div>"
            ],
            "text/plain": [
              "   Unnamed: 0  category                                        description\n",
              "0           0         0  @switchfoot http://twitpic.com/2y1zl - Awww, t...\n",
              "1           1         0  is upset that he can't update his Facebook by ...\n",
              "2           2         0  @Kenichan I dived many times for the ball. Man...\n",
              "3           3         0    my whole body feels itchy and like its on fire \n",
              "4           4         0  @nationwideclass no, it's not behaving at all...."
            ]
          },
          "metadata": {
            "tags": []
          },
          "execution_count": 3
        }
      ]
    },
    {
      "cell_type": "code",
      "metadata": {
        "colab": {
          "base_uri": "https://localhost:8080/"
        },
        "id": "3gc2mWee1w_j",
        "outputId": "d822abc2-2a05-453b-ef2c-450579886553"
      },
      "source": [
        "df.info()"
      ],
      "execution_count": 4,
      "outputs": [
        {
          "output_type": "stream",
          "text": [
            "<class 'pandas.core.frame.DataFrame'>\n",
            "RangeIndex: 1600000 entries, 0 to 1599999\n",
            "Data columns (total 3 columns):\n",
            " #   Column       Non-Null Count    Dtype \n",
            "---  ------       --------------    ----- \n",
            " 0   Unnamed: 0   1600000 non-null  int64 \n",
            " 1   category     1600000 non-null  int64 \n",
            " 2   description  1600000 non-null  object\n",
            "dtypes: int64(2), object(1)\n",
            "memory usage: 36.6+ MB\n"
          ],
          "name": "stdout"
        }
      ]
    },
    {
      "cell_type": "code",
      "metadata": {
        "id": "4ox1cND_2GsC"
      },
      "source": [
        "df.drop(['Unnamed: 0'],axis=1,inplace=True)"
      ],
      "execution_count": 5,
      "outputs": []
    },
    {
      "cell_type": "code",
      "metadata": {
        "id": "8SAso8b92UZ4"
      },
      "source": [
        "df['pre_clean_len'] = [len(t) for t in df.description]"
      ],
      "execution_count": 7,
      "outputs": []
    },
    {
      "cell_type": "code",
      "metadata": {
        "colab": {
          "base_uri": "https://localhost:8080/",
          "height": 320
        },
        "id": "lxy9YZ-42kzo",
        "outputId": "013472a0-2862-47e6-e139-c2107a931549"
      },
      "source": [
        "fig, ax = plt.subplots(figsize=(5, 5))\r\n",
        "plt.boxplot(df.pre_clean_len)\r\n",
        "plt.show()"
      ],
      "execution_count": 8,
      "outputs": [
        {
          "output_type": "display_data",
          "data": {
            "image/png": "[encoded data removed]",
            "text/plain": [
              "<Figure size 360x360 with 1 Axes>"
            ]
          },
          "metadata": {
            "tags": [],
            "needs_background": "light"
          }
        }
      ]
    },
    {
      "cell_type": "code",
      "metadata": {
        "id": "LnomwkB93M8y"
      },
      "source": [
        "from bs4 import BeautifulSoup\r\n",
        "import re"
      ],
      "execution_count": 9,
      "outputs": []
    },
    {
      "cell_type": "code",
      "metadata": {
        "id": "JjmtbYy_4S7L"
      },
      "source": [
        "from nltk.tokenize import WordPunctTokenizer\r\n",
        "tok = WordPunctTokenizer()"
      ],
      "execution_count": 10,
      "outputs": []
    },
    {
      "cell_type": "code",
      "metadata": {
        "id": "RHaBKl-54VRh"
      },
      "source": [
        "pat1 = r'@[A-Za-z0-9]+'\r\n",
        "pat2 = r'https?://[A-Za-z0-9./]+'\r\n",
        "combined_pat = r'|'.join((pat1, pat2))\r\n",
        "\r\n",
        "def tweet_cleaner(text):\r\n",
        "    soup = BeautifulSoup(text, 'lxml')\r\n",
        "    souped = soup.get_text()\r\n",
        "    stripped = re.sub(combined_pat, '', souped)\r\n",
        "    try:\r\n",
        "        clean = stripped.decode(\"utf-8-sig\").replace(u\"\\ufffd\", \"?\")\r\n",
        "    except:\r\n",
        "        clean = stripped\r\n",
        "    letters_only = re.sub(\"[^a-zA-Z]\", \" \", clean)\r\n",
        "    lower_case = letters_only.lower()\r\n",
        "    # During the letters_only process two lines above, it has created unnecessay white spaces,\r\n",
        "    # I will tokenize and join together to remove unneccessary white spaces\r\n",
        "    words = tok.tokenize(lower_case)\r\n",
        "    return (\" \".join(words)).strip()"
      ],
      "execution_count": 11,
      "outputs": []
    },
    {
      "cell_type": "code",
      "metadata": {
        "id": "JkDRmtRm4chT"
      },
      "source": [
        "nums = [0,400000,800000,1200000,1600000]"
      ],
      "execution_count": 12,
      "outputs": []
    },
    {
      "cell_type": "code",
      "metadata": {
        "colab": {
          "base_uri": "https://localhost:8080/"
        },
        "id": "bkmAVnYz4xZn",
        "outputId": "b28fd885-d178-4d77-f5ac-3e94c012540e"
      },
      "source": [
        "%%time\r\n",
        "print(\"Cleaning and parsing the tweets...\\n\")\r\n",
        "clean_tweet_texts = []\r\n",
        "for i in range(nums[0],nums[1]):\r\n",
        "    if( (i+1)%10000 == 0 ):\r\n",
        "        print(\"Tweets %d of %d has been processed\" % ( i+1, nums[1] ))                                                                    \r\n",
        "    clean_tweet_texts.append(tweet_cleaner(df['description'][i]))"
      ],
      "execution_count": 13,
      "outputs": [
        {
          "output_type": "stream",
          "text": [
            "Cleaning and parsing the tweets...\n",
            "\n",
            "Tweets 10000 of 400000 has been processed\n",
            "Tweets 20000 of 400000 has been processed\n",
            "Tweets 30000 of 400000 has been processed\n",
            "Tweets 40000 of 400000 has been processed\n",
            "Tweets 50000 of 400000 has been processed\n",
            "Tweets 60000 of 400000 has been processed\n",
            "Tweets 70000 of 400000 has been processed\n",
            "Tweets 80000 of 400000 has been processed\n",
            "Tweets 90000 of 400000 has been processed\n",
            "Tweets 100000 of 400000 has been processed\n",
            "Tweets 110000 of 400000 has been processed\n",
            "Tweets 120000 of 400000 has been processed\n",
            "Tweets 130000 of 400000 has been processed\n",
            "Tweets 140000 of 400000 has been processed\n",
            "Tweets 150000 of 400000 has been processed\n",
            "Tweets 160000 of 400000 has been processed\n",
            "Tweets 170000 of 400000 has been processed\n",
            "Tweets 180000 of 400000 has been processed\n",
            "Tweets 190000 of 400000 has been processed\n",
            "Tweets 200000 of 400000 has been processed\n",
            "Tweets 210000 of 400000 has been processed\n",
            "Tweets 220000 of 400000 has been processed\n",
            "Tweets 230000 of 400000 has been processed\n",
            "Tweets 240000 of 400000 has been processed\n",
            "Tweets 250000 of 400000 has been processed\n",
            "Tweets 260000 of 400000 has been processed\n",
            "Tweets 270000 of 400000 has been processed\n",
            "Tweets 280000 of 400000 has been processed\n",
            "Tweets 290000 of 400000 has been processed\n",
            "Tweets 300000 of 400000 has been processed\n",
            "Tweets 310000 of 400000 has been processed\n",
            "Tweets 320000 of 400000 has been processed\n",
            "Tweets 330000 of 400000 has been processed\n",
            "Tweets 340000 of 400000 has been processed\n",
            "Tweets 350000 of 400000 has been processed\n",
            "Tweets 360000 of 400000 has been processed\n",
            "Tweets 370000 of 400000 has been processed\n",
            "Tweets 380000 of 400000 has been processed\n",
            "Tweets 390000 of 400000 has been processed\n",
            "Tweets 400000 of 400000 has been processed\n",
            "CPU times: user 1min 30s, sys: 5.56 s, total: 1min 36s\n",
            "Wall time: 1min 36s\n"
          ],
          "name": "stdout"
        }
      ]
    },
    {
      "cell_type": "code",
      "metadata": {
        "colab": {
          "base_uri": "https://localhost:8080/"
        },
        "id": "c0y6ZKhl408U",
        "outputId": "366ba8ea-c6c9-4cde-c9c0-d021fe24c58d"
      },
      "source": [
        "%%time\r\n",
        "print(\"Cleaning and parsing the tweets...\\n\")\r\n",
        "for i in range(nums[1],nums[2]):\r\n",
        "    if( (i+1)%10000 == 0 ):\r\n",
        "        print(\"Tweets %d of %d has been processed\" % ( i+1, nums[2] ))                                                                    \r\n",
        "    clean_tweet_texts.append(tweet_cleaner(df['description'][i]))"
      ],
      "execution_count": 14,
      "outputs": [
        {
          "output_type": "stream",
          "text": [
            "Cleaning and parsing the tweets...\n",
            "\n",
            "Tweets 410000 of 800000 has been processed\n",
            "Tweets 420000 of 800000 has been processed\n",
            "Tweets 430000 of 800000 has been processed\n",
            "Tweets 440000 of 800000 has been processed\n",
            "Tweets 450000 of 800000 has been processed\n",
            "Tweets 460000 of 800000 has been processed\n",
            "Tweets 470000 of 800000 has been processed\n",
            "Tweets 480000 of 800000 has been processed\n",
            "Tweets 490000 of 800000 has been processed\n",
            "Tweets 500000 of 800000 has been processed\n",
            "Tweets 510000 of 800000 has been processed\n",
            "Tweets 520000 of 800000 has been processed\n",
            "Tweets 530000 of 800000 has been processed\n",
            "Tweets 540000 of 800000 has been processed\n",
            "Tweets 550000 of 800000 has been processed\n",
            "Tweets 560000 of 800000 has been processed\n",
            "Tweets 570000 of 800000 has been processed\n",
            "Tweets 580000 of 800000 has been processed\n",
            "Tweets 590000 of 800000 has been processed\n",
            "Tweets 600000 of 800000 has been processed\n",
            "Tweets 610000 of 800000 has been processed\n",
            "Tweets 620000 of 800000 has been processed\n",
            "Tweets 630000 of 800000 has been processed\n",
            "Tweets 640000 of 800000 has been processed\n",
            "Tweets 650000 of 800000 has been processed\n",
            "Tweets 660000 of 800000 has been processed\n",
            "Tweets 670000 of 800000 has been processed\n",
            "Tweets 680000 of 800000 has been processed\n",
            "Tweets 690000 of 800000 has been processed\n",
            "Tweets 700000 of 800000 has been processed\n",
            "Tweets 710000 of 800000 has been processed\n",
            "Tweets 720000 of 800000 has been processed\n",
            "Tweets 730000 of 800000 has been processed\n",
            "Tweets 740000 of 800000 has been processed\n",
            "Tweets 750000 of 800000 has been processed\n",
            "Tweets 760000 of 800000 has been processed\n",
            "Tweets 770000 of 800000 has been processed\n",
            "Tweets 780000 of 800000 has been processed\n",
            "Tweets 790000 of 800000 has been processed\n",
            "Tweets 800000 of 800000 has been processed\n",
            "CPU times: user 1min 30s, sys: 5.81 s, total: 1min 35s\n",
            "Wall time: 1min 36s\n"
          ],
          "name": "stdout"
        }
      ]
    },
    {
      "cell_type": "code",
      "metadata": {
        "colab": {
          "base_uri": "https://localhost:8080/"
        },
        "id": "R4-nl_mM6j6z",
        "outputId": "980a29bf-89dc-4da9-9ff3-636c83e176bc"
      },
      "source": [
        "%%time\r\n",
        "print(\"Cleaning and parsing the tweets...\\n\")\r\n",
        "for i in range(nums[2],nums[3]):\r\n",
        "    if( (i+1)%10000 == 0 ):\r\n",
        "        print(\"Tweets %d of %d has been processed\" % ( i+1, nums[3] ))                                                                    \r\n",
        "    clean_tweet_texts.append(tweet_cleaner(df['description'][i]))"
      ],
      "execution_count": 15,
      "outputs": [
        {
          "output_type": "stream",
          "text": [
            "Cleaning and parsing the tweets...\n",
            "\n",
            "Tweets 810000 of 1200000 has been processed\n",
            "Tweets 820000 of 1200000 has been processed\n",
            "Tweets 830000 of 1200000 has been processed\n",
            "Tweets 840000 of 1200000 has been processed\n",
            "Tweets 850000 of 1200000 has been processed\n",
            "Tweets 860000 of 1200000 has been processed\n",
            "Tweets 870000 of 1200000 has been processed\n",
            "Tweets 880000 of 1200000 has been processed\n",
            "Tweets 890000 of 1200000 has been processed\n",
            "Tweets 900000 of 1200000 has been processed\n",
            "Tweets 910000 of 1200000 has been processed\n",
            "Tweets 920000 of 1200000 has been processed\n",
            "Tweets 930000 of 1200000 has been processed\n",
            "Tweets 940000 of 1200000 has been processed\n",
            "Tweets 950000 of 1200000 has been processed\n",
            "Tweets 960000 of 1200000 has been processed\n",
            "Tweets 970000 of 1200000 has been processed\n",
            "Tweets 980000 of 1200000 has been processed\n",
            "Tweets 990000 of 1200000 has been processed\n",
            "Tweets 1000000 of 1200000 has been processed\n",
            "Tweets 1010000 of 1200000 has been processed\n",
            "Tweets 1020000 of 1200000 has been processed\n",
            "Tweets 1030000 of 1200000 has been processed\n",
            "Tweets 1040000 of 1200000 has been processed\n",
            "Tweets 1050000 of 1200000 has been processed\n",
            "Tweets 1060000 of 1200000 has been processed\n",
            "Tweets 1070000 of 1200000 has been processed\n",
            "Tweets 1080000 of 1200000 has been processed\n",
            "Tweets 1090000 of 1200000 has been processed\n",
            "Tweets 1100000 of 1200000 has been processed\n",
            "Tweets 1110000 of 1200000 has been processed\n",
            "Tweets 1120000 of 1200000 has been processed\n",
            "Tweets 1130000 of 1200000 has been processed\n",
            "Tweets 1140000 of 1200000 has been processed\n",
            "Tweets 1150000 of 1200000 has been processed\n",
            "Tweets 1160000 of 1200000 has been processed\n",
            "Tweets 1170000 of 1200000 has been processed\n",
            "Tweets 1180000 of 1200000 has been processed\n",
            "Tweets 1190000 of 1200000 has been processed\n",
            "Tweets 1200000 of 1200000 has been processed\n",
            "CPU times: user 1min 30s, sys: 6.16 s, total: 1min 36s\n",
            "Wall time: 1min 36s\n"
          ],
          "name": "stdout"
        }
      ]
    },
    {
      "cell_type": "code",
      "metadata": {
        "colab": {
          "base_uri": "https://localhost:8080/"
        },
        "id": "CJjSKhwD7EFT",
        "outputId": "69481045-a83c-4f91-df69-cb5d3a977428"
      },
      "source": [
        "%%time\r\n",
        "print(\"Cleaning and parsing the tweets...\\n\")\r\n",
        "for i in range(nums[3],nums[4]):\r\n",
        "    if( (i+1)%10000 == 0 ):\r\n",
        "        print(\"Tweets %d of %d has been processed\" % ( i+1, nums[4] ))                                                                    \r\n",
        "    clean_tweet_texts.append(tweet_cleaner(df['description'][i]))"
      ],
      "execution_count": 16,
      "outputs": [
        {
          "output_type": "stream",
          "text": [
            "Cleaning and parsing the tweets...\n",
            "\n",
            "Tweets 1210000 of 1600000 has been processed\n",
            "Tweets 1220000 of 1600000 has been processed\n",
            "Tweets 1230000 of 1600000 has been processed\n",
            "Tweets 1240000 of 1600000 has been processed\n",
            "Tweets 1250000 of 1600000 has been processed\n",
            "Tweets 1260000 of 1600000 has been processed\n",
            "Tweets 1270000 of 1600000 has been processed\n",
            "Tweets 1280000 of 1600000 has been processed\n",
            "Tweets 1290000 of 1600000 has been processed\n",
            "Tweets 1300000 of 1600000 has been processed\n",
            "Tweets 1310000 of 1600000 has been processed\n",
            "Tweets 1320000 of 1600000 has been processed\n",
            "Tweets 1330000 of 1600000 has been processed\n",
            "Tweets 1340000 of 1600000 has been processed\n",
            "Tweets 1350000 of 1600000 has been processed\n",
            "Tweets 1360000 of 1600000 has been processed\n",
            "Tweets 1370000 of 1600000 has been processed\n",
            "Tweets 1380000 of 1600000 has been processed\n",
            "Tweets 1390000 of 1600000 has been processed\n",
            "Tweets 1400000 of 1600000 has been processed\n",
            "Tweets 1410000 of 1600000 has been processed\n",
            "Tweets 1420000 of 1600000 has been processed\n",
            "Tweets 1430000 of 1600000 has been processed\n",
            "Tweets 1440000 of 1600000 has been processed\n",
            "Tweets 1450000 of 1600000 has been processed\n",
            "Tweets 1460000 of 1600000 has been processed\n",
            "Tweets 1470000 of 1600000 has been processed\n",
            "Tweets 1480000 of 1600000 has been processed\n",
            "Tweets 1490000 of 1600000 has been processed\n",
            "Tweets 1500000 of 1600000 has been processed\n",
            "Tweets 1510000 of 1600000 has been processed\n",
            "Tweets 1520000 of 1600000 has been processed\n",
            "Tweets 1530000 of 1600000 has been processed\n",
            "Tweets 1540000 of 1600000 has been processed\n",
            "Tweets 1550000 of 1600000 has been processed\n",
            "Tweets 1560000 of 1600000 has been processed\n",
            "Tweets 1570000 of 1600000 has been processed\n",
            "Tweets 1580000 of 1600000 has been processed\n",
            "Tweets 1590000 of 1600000 has been processed\n",
            "Tweets 1600000 of 1600000 has been processed\n",
            "CPU times: user 1min 30s, sys: 6.73 s, total: 1min 37s\n",
            "Wall time: 1min 37s\n"
          ],
          "name": "stdout"
        }
      ]
    },
    {
      "cell_type": "code",
      "metadata": {
        "colab": {
          "base_uri": "https://localhost:8080/",
          "height": 206
        },
        "id": "qDwTCknW7TAl",
        "outputId": "ddfddb55-c79a-4c14-d5e3-215650e5d840"
      },
      "source": [
        "clean_df = pd.DataFrame(clean_tweet_texts,columns=['description'])\r\n",
        "clean_df['category'] = df.category\r\n",
        "clean_df.head()"
      ],
      "execution_count": 18,
      "outputs": [
        {
          "output_type": "execute_result",
          "data": {
            "text/html": [
              "<div>\n",
              "<style scoped>\n",
              "    .dataframe tbody tr th:only-of-type {\n",
              "        vertical-align: middle;\n",
              "    }\n",
              "\n",
              "    .dataframe tbody tr th {\n",
              "        vertical-align: top;\n",
              "    }\n",
              "\n",
              "    .dataframe thead th {\n",
              "        text-align: right;\n",
              "    }\n",
              "</style>\n",
              "<table border=\"1\" class=\"dataframe\">\n",
              "  <thead>\n",
              "    <tr style=\"text-align: right;\">\n",
              "      <th></th>\n",
              "      <th>description</th>\n",
              "      <th>category</th>\n",
              "    </tr>\n",
              "  </thead>\n",
              "  <tbody>\n",
              "    <tr>\n",
              "      <th>0</th>\n",
              "      <td>awww that s a bummer you shoulda got david car...</td>\n",
              "      <td>0</td>\n",
              "    </tr>\n",
              "    <tr>\n",
              "      <th>1</th>\n",
              "      <td>is upset that he can t update his facebook by ...</td>\n",
              "      <td>0</td>\n",
              "    </tr>\n",
              "    <tr>\n",
              "      <th>2</th>\n",
              "      <td>i dived many times for the ball managed to sav...</td>\n",
              "      <td>0</td>\n",
              "    </tr>\n",
              "    <tr>\n",
              "      <th>3</th>\n",
              "      <td>my whole body feels itchy and like its on fire</td>\n",
              "      <td>0</td>\n",
              "    </tr>\n",
              "    <tr>\n",
              "      <th>4</th>\n",
              "      <td>no it s not behaving at all i m mad why am i h...</td>\n",
              "      <td>0</td>\n",
              "    </tr>\n",
              "  </tbody>\n",
              "</table>\n",
              "</div>"
            ],
            "text/plain": [
              "                                         description  category\n",
              "0  awww that s a bummer you shoulda got david car...         0\n",
              "1  is upset that he can t update his facebook by ...         0\n",
              "2  i dived many times for the ball managed to sav...         0\n",
              "3     my whole body feels itchy and like its on fire         0\n",
              "4  no it s not behaving at all i m mad why am i h...         0"
            ]
          },
          "metadata": {
            "tags": []
          },
          "execution_count": 18
        }
      ]
    },
    {
      "cell_type": "code",
      "metadata": {
        "id": "WW4U43GN7pBF"
      },
      "source": [
        "clean_df.to_csv('/content/drive/My Drive/Colab Notebooks/ScalaProject/clean_tweet.csv',encoding='utf-8')"
      ],
      "execution_count": null,
      "outputs": []
    },
    {
      "cell_type": "code",
      "metadata": {
        "id": "pA-3j0_I8BK1"
      },
      "source": [
        "df['pre_clean_len'] = [len(t) for t in clean_df.description]"
      ],
      "execution_count": null,
      "outputs": []
    },
    {
      "cell_type": "code",
      "metadata": {
        "colab": {
          "base_uri": "https://localhost:8080/",
          "height": 424
        },
        "id": "viInLtrR8bba",
        "outputId": "bc04f8a2-2b05-4f1c-e2ec-83cd3edebc77"
      },
      "source": [
        "df[df.pre_clean_len == 0]"
      ],
      "execution_count": null,
      "outputs": [
        {
          "output_type": "execute_result",
          "data": {
            "text/html": [
              "<div>\n",
              "<style scoped>\n",
              "    .dataframe tbody tr th:only-of-type {\n",
              "        vertical-align: middle;\n",
              "    }\n",
              "\n",
              "    .dataframe tbody tr th {\n",
              "        vertical-align: top;\n",
              "    }\n",
              "\n",
              "    .dataframe thead th {\n",
              "        text-align: right;\n",
              "    }\n",
              "</style>\n",
              "<table border=\"1\" class=\"dataframe\">\n",
              "  <thead>\n",
              "    <tr style=\"text-align: right;\">\n",
              "      <th></th>\n",
              "      <th>category</th>\n",
              "      <th>description</th>\n",
              "      <th>pre_clean_len</th>\n",
              "    </tr>\n",
              "  </thead>\n",
              "  <tbody>\n",
              "    <tr>\n",
              "      <th>208</th>\n",
              "      <td>0</td>\n",
              "      <td>@mandayyy</td>\n",
              "      <td>0</td>\n",
              "    </tr>\n",
              "    <tr>\n",
              "      <th>249</th>\n",
              "      <td>0</td>\n",
              "      <td>@mandayyy</td>\n",
              "      <td>0</td>\n",
              "    </tr>\n",
              "    <tr>\n",
              "      <th>398</th>\n",
              "      <td>0</td>\n",
              "      <td>@danadearmond</td>\n",
              "      <td>0</td>\n",
              "    </tr>\n",
              "    <tr>\n",
              "      <th>430</th>\n",
              "      <td>0</td>\n",
              "      <td>@anistorm</td>\n",
              "      <td>0</td>\n",
              "    </tr>\n",
              "    <tr>\n",
              "      <th>1011</th>\n",
              "      <td>0</td>\n",
              "      <td>@citizensheep</td>\n",
              "      <td>0</td>\n",
              "    </tr>\n",
              "    <tr>\n",
              "      <th>...</th>\n",
              "      <td>...</td>\n",
              "      <td>...</td>\n",
              "      <td>...</td>\n",
              "    </tr>\n",
              "    <tr>\n",
              "      <th>1594388</th>\n",
              "      <td>4</td>\n",
              "      <td>@audiotherapy</td>\n",
              "      <td>0</td>\n",
              "    </tr>\n",
              "    <tr>\n",
              "      <th>1597326</th>\n",
              "      <td>4</td>\n",
              "      <td>@ashtonshay00</td>\n",
              "      <td>0</td>\n",
              "    </tr>\n",
              "    <tr>\n",
              "      <th>1597684</th>\n",
              "      <td>4</td>\n",
              "      <td>@patty4sound http://twitpic.com/7iuns -</td>\n",
              "      <td>0</td>\n",
              "    </tr>\n",
              "    <tr>\n",
              "      <th>1598272</th>\n",
              "      <td>4</td>\n",
              "      <td>@MakingSense 18</td>\n",
              "      <td>0</td>\n",
              "    </tr>\n",
              "    <tr>\n",
              "      <th>1599494</th>\n",
              "      <td>4</td>\n",
              "      <td>@Sworn4DaBosses</td>\n",
              "      <td>0</td>\n",
              "    </tr>\n",
              "  </tbody>\n",
              "</table>\n",
              "<p>3247 rows × 3 columns</p>\n",
              "</div>"
            ],
            "text/plain": [
              "         category                               description  pre_clean_len\n",
              "208             0                                @mandayyy               0\n",
              "249             0                              @mandayyy                 0\n",
              "398             0                            @danadearmond               0\n",
              "430             0                                @anistorm               0\n",
              "1011            0                            @citizensheep               0\n",
              "...           ...                                       ...            ...\n",
              "1594388         4                            @audiotherapy               0\n",
              "1597326         4                            @ashtonshay00               0\n",
              "1597684         4  @patty4sound http://twitpic.com/7iuns -               0\n",
              "1598272         4                          @MakingSense 18               0\n",
              "1599494         4                          @Sworn4DaBosses               0\n",
              "\n",
              "[3247 rows x 3 columns]"
            ]
          },
          "metadata": {
            "tags": []
          },
          "execution_count": 46
        }
      ]
    },
    {
      "cell_type": "code",
      "metadata": {
        "id": "bUOKHSzTDQqB"
      },
      "source": [
        "cleaned_tweet = clean_df[clean_df.description != '']"
      ],
      "execution_count": null,
      "outputs": []
    },
    {
      "cell_type": "code",
      "metadata": {
        "id": "A4OlSxkoDw7v"
      },
      "source": [
        "cleaned_tweet.to_csv('/content/drive/My Drive/Colab Notebooks/ScalaProject/cleaned_tweet.csv',encoding='utf-8')"
      ],
      "execution_count": null,
      "outputs": []
    }
  ]
}